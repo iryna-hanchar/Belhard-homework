{
  "nbformat": 4,
  "nbformat_minor": 0,
  "metadata": {
    "colab": {
      "provenance": [],
      "toc_visible": true
    },
    "kernelspec": {
      "name": "python3",
      "display_name": "Python 3"
    },
    "language_info": {
      "name": "python"
    }
  },
  "cells": [
    {
      "cell_type": "markdown",
      "source": [],
      "metadata": {
        "id": "6KZltIJ2TW02"
      }
    },
    {
      "cell_type": "code",
      "execution_count": null,
      "metadata": {
        "id": "RdprseZTPYqY",
        "colab": {
          "base_uri": "https://localhost:8080/"
        },
        "outputId": "0b4b30aa-6203-4ad3-b8f1-179b675836be"
      },
      "outputs": [
        {
          "output_type": "stream",
          "name": "stdout",
          "text": [
            "Первый элемент = 1 ; Тип данных = <class 'int'>\n",
            "Второй элемент = work ; Тип данных = <class 'str'>\n",
            "Третий элемент = [1, 5] ; Тип данных = <class 'list'>\n",
            "Четвертый элемент = Hello, word! ; Тип данных = <class 'str'>\n",
            "Пятый элемент = {'страна': 'Беларусь', 'столица': 'Минск'} ; Тип данных = <class 'dict'>\n",
            "Шестой элемент = True ; Тип данных = <class 'bool'>\n"
          ]
        }
      ],
      "source": [
        "# 11.Создать кортеж из 6 элементов разных типов данных и вывести на экран тип каждого элемента.\n",
        "\n",
        "#создаём кортеж элементов\n",
        "my_tupel=1,'work',[1,5],\"Hello, word!\", {\"страна\":\"Беларусь\", \"столица\":\"Минск\"},True\n",
        "#извлекаем элементы кортежа в переменные\n",
        "a,b,c,d,e,f=my_tupel\n",
        "#выводим тип элементов\n",
        "print ('Первый элемент =',a,';', 'Тип данных =', type(a))\n",
        "print ('Второй элемент =',b,';', 'Тип данных =', type(b))\n",
        "print ('Третий элемент =',c,';', 'Тип данных =', type(c))\n",
        "print ('Четвертый элемент =',d,';', 'Тип данных =', type(d))\n",
        "print ('Пятый элемент =',e,';', 'Тип данных =', type(e))\n",
        "print ('Шестой элемент =',f,';', 'Тип данных =', type(f))"
      ]
    }
  ]
}